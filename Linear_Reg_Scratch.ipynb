{
  "nbformat": 4,
  "nbformat_minor": 0,
  "metadata": {
    "colab": {
      "provenance": [],
      "authorship_tag": "ABX9TyPx6S7XFE1dHQCPE6KfFaEF"
    },
    "kernelspec": {
      "name": "python3",
      "display_name": "Python 3"
    },
    "language_info": {
      "name": "python"
    }
  },
  "cells": [
    {
      "cell_type": "code",
      "source": [
        "import numpy as np"
      ],
      "metadata": {
        "id": "ovgLgdgxvIVo"
      },
      "execution_count": 1,
      "outputs": []
    },
    {
      "cell_type": "code",
      "source": [
        "class Linear_Regression():\n",
        "#initiating the parameters (learning rate, number of iterations)\n",
        "  def __init__(self, learning_rate, no_of_iterations):\n",
        "    self.learning_rate = learning_rate\n",
        "    self.no_of_iterations = no_of_iterations\n",
        "\n",
        "  def fit(self,X, Y):\n",
        "    #number of training examples and features\n",
        "    self.m, self.n = X.shape #basically the rows(m) and cols(n)\n",
        "\n",
        "    #initiating the weights & the bias\n",
        "    self.w = np.zeros(self.n) #weights can be diffrent 1,2,3,4 etc\n",
        "    self.b = 0 #constant\n",
        "    self.X = X\n",
        "    self.Y = Y\n",
        "\n",
        "    #implementing the Gradient Descent\n",
        "    for i in range(self.no_of_iterations):\n",
        "      self.update_weights()\n",
        "\n",
        "  def update_weights(self,):\n",
        "    Y_prediction = self.predict(self.X)\n",
        "\n",
        "    #calculating the gradients\n",
        "    dw = -(2 * (self.X.T).dot(self.Y-Y_prediction)) / self.m\n",
        "    db = -(2 * np.sum(self.Y - Y_prediction)) / self.m\n",
        "\n",
        "    #update the weights\n",
        "    self.w = self.w - self.learning_rate * dw\n",
        "    self.b = self.b - self.learning_rate * db\n",
        "\n",
        "  def predict(self, X):\n",
        "    return X.dot(self.w) + self.b # wX + b --> (mx+c)\n"
      ],
      "metadata": {
        "id": "qnWQfqL8vSXT"
      },
      "execution_count": 2,
      "outputs": []
    },
    {
      "cell_type": "code",
      "source": [],
      "metadata": {
        "id": "BDC6rGxk3Pza"
      },
      "execution_count": null,
      "outputs": []
    }
  ]
}